{
 "cells": [
  {
   "cell_type": "markdown",
   "id": "f49d7c52",
   "metadata": {},
   "source": [
    "# Code to explore how to best handle UM16 data\n",
    "\n",
    "(Before I write a whole python script!)\n"
   ]
  },
  {
   "cell_type": "code",
   "execution_count": 2,
   "id": "bf2ebc44",
   "metadata": {},
   "outputs": [],
   "source": [
    "import pyvista as pv # for importing the vtp\n",
    "import numpy as np\n",
    "import h5py\n",
    "from scipy.interpolate import splev, splprep\n",
    "\n",
    "# can i get the matlab thing to work lol\n",
    "# just skip matlab, try to use h5\n",
    "\n",
    "# ALSO the centerline might need a spline fit to it\n",
    "\n",
    "# maybe just start with STE from earlier? Then move into using the new segmentation...\n",
    "# Don't think I have enough time to make new thing given the ddx_image_mask.m situation..."
   ]
  },
  {
   "cell_type": "code",
   "execution_count": 3,
   "id": "1e8ccd6d",
   "metadata": {},
   "outputs": [],
   "source": [
    "# Load the VTP file using PyVista\n",
    "centerline_model = pv.read(\"Centerline model_1.vtp\")\n",
    "#print(centerline_model.points)"
   ]
  },
  {
   "cell_type": "code",
   "execution_count": 11,
   "id": "1d3fafe1",
   "metadata": {},
   "outputs": [
    {
     "name": "stdout",
     "output_type": "stream",
     "text": [
      "(265, 3)\n",
      "(265, 3)\n"
     ]
    }
   ],
   "source": [
    "centerline_points = centerline_model.points\n",
    "tck, u = splprep([centerline_points[:, 0], centerline_points[:, 1], centerline_points[:, 2]])\n",
    "new_points = splev(u, tck)\n",
    "first_deriv = splev(u, tck, der=1)\n",
    "\n",
    "#centerline_model.plot(show_edges=True, show_scalar_bar=False)\n",
    "new_points = np.array(new_points).T\n",
    "print(new_points.shape)\n",
    "first_deriv = np.array(first_deriv).T\n",
    "print(first_deriv.shape)"
   ]
  },
  {
   "cell_type": "code",
   "execution_count": 12,
   "id": "28958c12",
   "metadata": {},
   "outputs": [],
   "source": [
    "# Create a PolyData object from new_points\n",
    "new_points_polydata = pv.PolyData(new_points, lines=[265] + np.arange(len(new_points)).tolist())\n",
    "#new_points_polydata.plot(show_edges=True, show_scalar_bar=False)\n",
    "#centerline_model.plot(show_edges=True, show_scalar_bar=False)\n",
    "\n",
    "# Save the PolyData object to a .vtp file\n",
    "new_points_polydata.point_data.set_vectors(first_deriv, \"Derivative\")\n",
    "\n",
    "new_points_polydata.save(\"new_points.vtp\")"
   ]
  }
 ],
 "metadata": {
  "kernelspec": {
   "display_name": "3.13.2",
   "language": "python",
   "name": "python3"
  },
  "language_info": {
   "codemirror_mode": {
    "name": "ipython",
    "version": 3
   },
   "file_extension": ".py",
   "mimetype": "text/x-python",
   "name": "python",
   "nbconvert_exporter": "python",
   "pygments_lexer": "ipython3",
   "version": "3.13.2"
  }
 },
 "nbformat": 4,
 "nbformat_minor": 5
}
