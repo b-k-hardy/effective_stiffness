{
 "cells": [
  {
   "cell_type": "markdown",
   "id": "f49d7c52",
   "metadata": {},
   "source": [
    "# Code to explore how to best handle David's data\n",
    "\n",
    "(Before I write a whole python script!)\n"
   ]
  },
  {
   "cell_type": "code",
   "execution_count": 108,
   "id": "bf2ebc44",
   "metadata": {},
   "outputs": [],
   "source": [
    "import pyvista as pv # for importing the vtp\n",
    "import numpy as np\n",
    "import h5py\n",
    "from scipy.interpolate import splev, splprep\n",
    "\n",
    "# can i get the matlab thing to work lol\n",
    "# just skip matlab, try to use h5\n",
    "\n",
    "# ALSO the centerline might need a spline fit to it\n",
    "\n",
    "# maybe just start with STE from earlier? Then move into using the new segmentation...\n",
    "# Don't think I have enough time to make new thing given the ddx_image_mask.m situation..."
   ]
  },
  {
   "cell_type": "code",
   "execution_count": 109,
   "id": "1e8ccd6d",
   "metadata": {},
   "outputs": [
    {
     "name": "stdout",
     "output_type": "stream",
     "text": [
      "PolyData (0x1522f6da0)\n",
      "  N Cells:    4\n",
      "  N Points:   786\n",
      "  N Strips:   0\n",
      "  X Bounds:   1.726e+02, 1.928e+02\n",
      "  Y Bounds:   1.074e+02, 1.880e+02\n",
      "  Z Bounds:   -2.507e+02, -5.678e+01\n",
      "  N Arrays:   6\n"
     ]
    }
   ],
   "source": [
    "# Load the VTP file using PyVista\n",
    "centerline_model = pv.read(\"Centerline_model_David.vtp\")\n",
    "centerline_warped = pv.read(\"Centerline warped.vtp\")\n",
    "centerline_w_branches = pv.read(\"Scene/Centerline model.vtp\")\n",
    "print(centerline_w_branches)"
   ]
  },
  {
   "cell_type": "code",
   "execution_count": 110,
   "id": "8d916abb",
   "metadata": {},
   "outputs": [],
   "source": [
    "def are_points_equal(pt1, pt2, tol=1e-6):\n",
    "    \"\"\"\n",
    "    Check if two 3D points are the same within a given tolerance.\n",
    "    pt1, pt2: array-like, shape (3,)\n",
    "    tol: float, tolerance for equality\n",
    "    \"\"\"\n",
    "    return np.allclose(pt1, pt2, atol=tol)"
   ]
  },
  {
   "cell_type": "code",
   "execution_count": 111,
   "id": "8cd5b5d0",
   "metadata": {},
   "outputs": [],
   "source": [
    "main_centerline = centerline_w_branches.get_cell(3).points\n",
    "centerline_warped_points = centerline_warped.points\n",
    "branch1 = centerline_w_branches.get_cell(0).points\n",
    "branch2 = centerline_w_branches.get_cell(1).points\n",
    "branch3 = centerline_w_branches.get_cell(2).points\n",
    "\n",
    "#main_centerline = centerline_w_branches.points[main_centerline_idx]\n",
    "#branch1 = centerline_w_branches.points[branch1]\n",
    "#branch2 = centerline_w_branches.points[branch2]\n",
    "#branch3 = centerline_w_branches.points[branch3]\n",
    "\n",
    "# THE CELLS DON'T SHARE POINTS GODDDAMN"
   ]
  },
  {
   "cell_type": "code",
   "execution_count": 112,
   "id": "1d3fafe1",
   "metadata": {},
   "outputs": [
    {
     "name": "stdout",
     "output_type": "stream",
     "text": [
      "(358, 3)\n"
     ]
    }
   ],
   "source": [
    "#centerline_points = centerline_model.points\n",
    "tck, u = splprep([main_centerline[:, 0], main_centerline[:, 1], main_centerline[:, 2]])\n",
    "new_points = splev(u, tck)\n",
    "first_deriv = splev(u, tck, der=1)\n",
    "\n",
    "#centerline_model.plot(show_edges=True, show_scalar_bar=False)\n",
    "new_points = np.array(new_points).T\n",
    "print(new_points.shape)\n",
    "first_deriv = np.array(first_deriv).T\n",
    "\n",
    "\n",
    "# Create a PolyData object from new_points\n",
    "new_points_polydata = pv.PolyData(new_points, lines=[358] + np.arange(len(new_points)).tolist())\n",
    "\n",
    "# Save the PolyData object to a .vtp file\n",
    "new_points_polydata.point_data.set_vectors(first_deriv, \"Derivative\")\n",
    "\n",
    "new_points_polydata.save(\"new_points.vtp\")"
   ]
  },
  {
   "cell_type": "code",
   "execution_count": 113,
   "id": "03bfb7e9",
   "metadata": {},
   "outputs": [
    {
     "name": "stdout",
     "output_type": "stream",
     "text": [
      "(344, 3)\n"
     ]
    }
   ],
   "source": [
    "#centerline_points = centerline_model.points\n",
    "tck, u = splprep([centerline_warped_points[:, 0], centerline_warped_points[:, 1], centerline_warped_points[:, 2]])\n",
    "new_points_warped = splev(u, tck)\n",
    "first_deriv_warped = splev(u, tck, der=1)\n",
    "\n",
    "#centerline_model.plot(show_edges=True, show_scalar_bar=False)\n",
    "new_points_warped = np.array(new_points_warped).T\n",
    "print(new_points_warped.shape)\n",
    "first_deriv_warped = np.array(first_deriv_warped).T\n",
    "\n",
    "\n",
    "# Create a PolyData object from new_points\n",
    "new_points_polydata_warped = pv.PolyData(new_points_warped, lines=[344] + np.arange(len(new_points_warped)).tolist())\n",
    "\n",
    "# Save the PolyData object to a .vtp file\n",
    "new_points_polydata_warped.point_data.set_vectors(first_deriv_warped, \"Derivative\")\n",
    "\n",
    "new_points_polydata_warped.save(\"new_points_warped.vtp\")"
   ]
  },
  {
   "cell_type": "code",
   "execution_count": 114,
   "id": "5919416e",
   "metadata": {},
   "outputs": [],
   "source": [
    "def circularity(area, perimeter):\n",
    "    return 4 * np.pi * area / (perimeter ** 2)"
   ]
  },
  {
   "cell_type": "code",
   "execution_count": 115,
   "id": "cf66f556",
   "metadata": {},
   "outputs": [],
   "source": [
    "full_model = pv.read(\"david_vdm.vtp\")\n",
    "extracted_cuts = []\n",
    "extracted_surfaces = []\n",
    "\n",
    "for i in range(len(new_points)):\n",
    "    \n",
    "    roi = pv.Sphere(center=new_points[i], radius=35)\n",
    "    \n",
    "    test_slice = full_model.slice(origin=new_points[i], normal=first_deriv[i])\n",
    "    test_slice.clear_data()\n",
    "    \n",
    "    extracted = test_slice.clip_surface(roi, invert=True)\n",
    "    extracted_surf = extracted.delaunay_2d()\n",
    "    \n",
    "    lengths = extracted.compute_cell_sizes()\n",
    "\n",
    "    perimeter = np.sum(lengths[\"Length\"])\n",
    "    extracted.cell_data.set_scalars(np.ones(extracted.n_cells) * perimeter, \"Perimeter\")\n",
    "    extracted.cell_data.set_scalars(np.ones(extracted.n_cells) * circularity(extracted_surf.area, perimeter), \"Circularity\")\n",
    "    \n",
    "    extracted_cuts.append(extracted)\n",
    "    extracted_surfaces.append(extracted_surf)\n",
    "    \n",
    "all_extracted = pv.merge(extracted_cuts)\n",
    "all_surfaces = pv.merge(extracted_surfaces)\n",
    "\n",
    "all_extracted.save(\"all_extracted.vtp\")\n",
    "all_surfaces.save(\"all_surfaces.vtp\")"
   ]
  },
  {
   "cell_type": "code",
   "execution_count": 116,
   "id": "70842667",
   "metadata": {},
   "outputs": [],
   "source": [
    "full_model = pv.read(\"david_vdm_warped.vtp\")\n",
    "extracted_cuts_warped = []\n",
    "extracted_surfaces_warped = []\n",
    "\n",
    "for i in range(len(new_points_warped)):\n",
    "    \n",
    "    roi = pv.Sphere(center=new_points_warped[i], radius=35)\n",
    "    \n",
    "    test_slice = full_model.slice(origin=new_points_warped[i], normal=first_deriv_warped[i])\n",
    "    test_slice.clear_data()\n",
    "    \n",
    "    extracted = test_slice.clip_surface(roi, invert=True)\n",
    "    extracted_surf = extracted.delaunay_2d()\n",
    "    \n",
    "    lengths = extracted.compute_cell_sizes()\n",
    "\n",
    "    perimeter = np.sum(lengths[\"Length\"])\n",
    "    extracted.cell_data.set_scalars(np.ones(extracted.n_cells) * perimeter, \"Perimeter\")\n",
    "    extracted.cell_data.set_scalars(np.ones(extracted.n_cells) * circularity(extracted_surf.area, perimeter), \"Circularity\")\n",
    "    \n",
    "    extracted_cuts_warped.append(extracted)\n",
    "    extracted_surfaces_warped.append(extracted_surf)\n",
    "    \n",
    "all_extracted = pv.merge(extracted_cuts_warped)\n",
    "all_surfaces = pv.merge(extracted_surfaces_warped)\n",
    "\n",
    "all_extracted.save(\"all_extracted_warped.vtp\")\n",
    "all_surfaces.save(\"all_surfaces_warped.vtp\")"
   ]
  },
  {
   "cell_type": "code",
   "execution_count": null,
   "id": "94136a39",
   "metadata": {},
   "outputs": [],
   "source": []
  },
  {
   "cell_type": "markdown",
   "id": "bab06b4a",
   "metadata": {},
   "source": [
    "branch 1"
   ]
  },
  {
   "cell_type": "code",
   "execution_count": 6,
   "id": "28958c12",
   "metadata": {},
   "outputs": [
    {
     "name": "stdout",
     "output_type": "stream",
     "text": [
      "Unique points in branch 0: 53\n",
      "Unique points in branch 1: 80\n",
      "Unique points in branch 2: 57\n"
     ]
    }
   ],
   "source": [
    "branch_list = [branch1, branch2, branch3]\n",
    "\n",
    "for i, branch in enumerate(branch_list):\n",
    "    \n",
    "    # find unique points first\n",
    "    unique_in_branch = []\n",
    "    for pt_branch in branch:\n",
    "        if not any(are_points_equal(pt_branch, pt_main) for pt_main in main_centerline):\n",
    "            unique_in_branch.append(pt_branch)\n",
    "\n",
    "    branch = np.array(unique_in_branch)\n",
    "    print(f\"Unique points in branch {i}: {len(unique_in_branch)}\")\n",
    "    \n",
    "    tck, u = splprep([branch[:, 0], branch[:, 1], branch[:, 2]])\n",
    "    new_points = splev(u, tck)\n",
    "    first_deriv = splev(u, tck, der=1)\n",
    "\n",
    "    new_points = np.array(new_points).T\n",
    "    first_deriv = np.array(first_deriv).T\n",
    "\n",
    "    # Create a PolyData object from new_points\n",
    "    new_points_polydata = pv.PolyData(new_points, lines=[branch.shape[0]] + np.arange(len(new_points)).tolist())\n",
    "\n",
    "    # Save the PolyData object to a .vtp file\n",
    "    new_points_polydata.point_data.set_vectors(first_deriv, \"Derivative\")\n",
    "\n",
    "    new_points_polydata.save(f\"new_{i}_branch.vtp\")"
   ]
  },
  {
   "cell_type": "markdown",
   "id": "1ec8da17",
   "metadata": {},
   "source": [
    "Putting everything in one file..."
   ]
  },
  {
   "cell_type": "code",
   "execution_count": 12,
   "id": "0a650eda",
   "metadata": {},
   "outputs": [
    {
     "name": "stdout",
     "output_type": "stream",
     "text": [
      "Unique points in branch 1: 53\n",
      "Current branch length: 53\n",
      "Unique points in branch 2: 80\n",
      "Current branch length: 80\n",
      "Unique points in branch 3: 57\n",
      "Current branch length: 57\n",
      "[358  53  80  57]\n",
      "[358, 0, 1, 2, 3, 4, 5, 6, 7, 8, 9, 10, 11, 12, 13, 14, 15, 16, 17, 18, 19, 20, 21, 22, 23, 24, 25, 26, 27, 28, 29, 30, 31, 32, 33, 34, 35, 36, 37, 38, 39, 40, 41, 42, 43, 44, 45, 46, 47, 48, 49, 50, 51, 52, 53, 54, 55, 56, 57, 58, 59, 60, 61, 62, 63, 64, 65, 66, 67, 68, 69, 70, 71, 72, 73, 74, 75, 76, 77, 78, 79, 80, 81, 82, 83, 84, 85, 86, 87, 88, 89, 90, 91, 92, 93, 94, 95, 96, 97, 98, 99, 100, 101, 102, 103, 104, 105, 106, 107, 108, 109, 110, 111, 112, 113, 114, 115, 116, 117, 118, 119, 120, 121, 122, 123, 124, 125, 126, 127, 128, 129, 130, 131, 132, 133, 134, 135, 136, 137, 138, 139, 140, 141, 142, 143, 144, 145, 146, 147, 148, 149, 150, 151, 152, 153, 154, 155, 156, 157, 158, 159, 160, 161, 162, 163, 164, 165, 166, 167, 168, 169, 170, 171, 172, 173, 174, 175, 176, 177, 178, 179, 180, 181, 182, 183, 184, 185, 186, 187, 188, 189, 190, 191, 192, 193, 194, 195, 196, 197, 198, 199, 200, 201, 202, 203, 204, 205, 206, 207, 208, 209, 210, 211, 212, 213, 214, 215, 216, 217, 218, 219, 220, 221, 222, 223, 224, 225, 226, 227, 228, 229, 230, 231, 232, 233, 234, 235, 236, 237, 238, 239, 240, 241, 242, 243, 244, 245, 246, 247, 248, 249, 250, 251, 252, 253, 254, 255, 256, 257, 258, 259, 260, 261, 262, 263, 264, 265, 266, 267, 268, 269, 270, 271, 272, 273, 274, 275, 276, 277, 278, 279, 280, 281, 282, 283, 284, 285, 286, 287, 288, 289, 290, 291, 292, 293, 294, 295, 296, 297, 298, 299, 300, 301, 302, 303, 304, 305, 306, 307, 308, 309, 310, 311, 312, 313, 314, 315, 316, 317, 318, 319, 320, 321, 322, 323, 324, 325, 326, 327, 328, 329, 330, 331, 332, 333, 334, 335, 336, 337, 338, 339, 340, 341, 342, 343, 344, 345, 346, 347, 348, 349, 350, 351, 352, 353, 354, 355, 356, 357, 53, 358, 359, 360, 361, 362, 363, 364, 365, 366, 367, 368, 369, 370, 371, 372, 373, 374, 375, 376, 377, 378, 379, 380, 381, 382, 383, 384, 385, 386, 387, 388, 389, 390, 391, 392, 393, 394, 395, 396, 397, 398, 399, 400, 401, 402, 403, 404, 405, 406, 407, 408, 409, 410, 80, 411, 412, 413, 414, 415, 416, 417, 418, 419, 420, 421, 422, 423, 424, 425, 426, 427, 428, 429, 430, 431, 432, 433, 434, 435, 436, 437, 438, 439, 440, 441, 442, 443, 444, 445, 446, 447, 448, 449, 450, 451, 452, 453, 454, 455, 456, 457, 458, 459, 460, 461, 462, 463, 464, 465, 466, 467, 468, 469, 470, 471, 472, 473, 474, 475, 476, 477, 478, 479, 480, 481, 482, 483, 484, 485, 486, 487, 488, 489, 490, 57, 491, 492, 493, 494, 495, 496, 497, 498, 499, 500, 501, 502, 503, 504, 505, 506, 507, 508, 509, 510, 511, 512, 513, 514, 515, 516, 517, 518, 519, 520, 521, 522, 523, 524, 525, 526, 527, 528, 529, 530, 531, 532, 533, 534, 535, 536, 537, 538, 539, 540, 541, 542, 543, 544, 545, 546, 547]\n"
     ]
    }
   ],
   "source": [
    "branch_list = [main_centerline, branch1, branch2, branch3]\n",
    "\n",
    "new_points_total = []\n",
    "first_deriv_total = []\n",
    "point_count = np.zeros(len(branch_list), dtype=int)\n",
    "topology = []\n",
    "\n",
    "for i, branch in enumerate(branch_list):\n",
    "    \n",
    "    # find unique points first\n",
    "    if i > 0:\n",
    "        unique_in_branch = []\n",
    "        for pt_branch in branch:\n",
    "            if not any(are_points_equal(pt_branch, pt_main) for pt_main in main_centerline):\n",
    "                unique_in_branch.append(pt_branch)\n",
    "\n",
    "        branch = np.array(unique_in_branch)\n",
    "        print(f\"Unique points in branch {i}: {len(unique_in_branch)}\")\n",
    "    \n",
    "    tck, u = splprep([branch[:, 0], branch[:, 1], branch[:, 2]])\n",
    "    new_points = splev(u, tck)\n",
    "    first_deriv = splev(u, tck, der=1)\n",
    "\n",
    "    new_points_total.append(np.array(new_points).T)\n",
    "    first_deriv_total.append(np.array(first_deriv).T)\n",
    "    point_count[i] = branch.shape[0]\n",
    "    \n",
    "    if i == 0:\n",
    "        topology.append([int(point_count[i])] + np.arange(point_count[i]).tolist())\n",
    "    else:\n",
    "        topology.append([int(point_count[i])] + np.arange(np.sum(point_count[:i]), np.sum(point_count)).tolist())\n",
    "        print(f\"Current branch length: {branch.shape[0]}\")\n",
    "\n",
    "\n",
    "new_points_total = np.concatenate(new_points_total, axis=0)\n",
    "first_deriv_total = np.concatenate(first_deriv_total, axis=0)\n",
    "print(point_count)\n",
    "\n",
    "#topology = [[branch.shape[0]] + np.arange(branch_list[i].shape[0]).tolist() for branch in branch_list]\n",
    "topology = [item for sublist in topology for item in sublist]\n",
    "print(topology)\n",
    "\n",
    "# Create a PolyData object from new_points\n",
    "all_new_points_polydata = pv.PolyData(new_points_total, lines=topology)\n",
    "\n",
    "# Save the PolyData object to a .vtp file\n",
    "all_new_points_polydata.point_data.set_vectors(first_deriv_total, \"Derivative\")\n",
    "\n",
    "all_new_points_polydata.save(f\"all_splines.vtp\")"
   ]
  },
  {
   "cell_type": "code",
   "execution_count": null,
   "id": "8e9d5b2c",
   "metadata": {},
   "outputs": [],
   "source": [
    "# cross section analysis: I could make the cross sections and then compare the CE vs MIS diameters OR try to use PCA to pick our the minor and major axes?\n",
    "\n",
    "\n"
   ]
  }
 ],
 "metadata": {
  "kernelspec": {
   "display_name": ".venv",
   "language": "python",
   "name": "python3"
  },
  "language_info": {
   "codemirror_mode": {
    "name": "ipython",
    "version": 3
   },
   "file_extension": ".py",
   "mimetype": "text/x-python",
   "name": "python",
   "nbconvert_exporter": "python",
   "pygments_lexer": "ipython3",
   "version": "3.13.3"
  }
 },
 "nbformat": 4,
 "nbformat_minor": 5
}
