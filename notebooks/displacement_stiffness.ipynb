{
 "cells": [
  {
   "cell_type": "markdown",
   "metadata": {},
   "source": [
    "# Messing Around with Javi's Code\n"
   ]
  },
  {
   "cell_type": "code",
   "execution_count": 3,
   "metadata": {},
   "outputs": [],
   "source": [
    "import cheartio\n",
    "import numpy as np\n",
    "import meshio"
   ]
  },
  {
   "cell_type": "code",
   "execution_count": 4,
   "metadata": {},
   "outputs": [],
   "source": [
    "# read in geometry\n",
    "K = 1e4 # stiffness for spatial multiplier map. (Pa/mm)\n",
    "xyz, ien, element = cheartio.read_mesh(\"model\")\n",
    "bfile = cheartio.read_bfile(\"model\")"
   ]
  },
  {
   "cell_type": "code",
   "execution_count": 91,
   "metadata": {},
   "outputs": [
    {
     "data": {
      "text/plain": [
       "array([[   0.58904283,  -21.95453066,   -8.24663319],\n",
       "       [   1.19374041,    0.2597431 , -195.39988202],\n",
       "       [ -13.98077478,   -9.90139934, -194.23335661],\n",
       "       ...,\n",
       "       [  16.94887869,    8.14591644, -126.27293024],\n",
       "       [  11.07942357,   10.20243681,  -13.35996748],\n",
       "       [  35.5082641 ,   56.32354765,  -55.90098202]], shape=(42140, 3))"
      ]
     },
     "execution_count": 91,
     "metadata": {},
     "output_type": "execute_result"
    }
   ],
   "source": [
    "# NOTE: d to vtu writer: need to input list of D files and then loop through timesteps.\n",
    "# path_t0 = [\"X.D\", \"P.D\"] etc.\n",
    "# load in systole and diastole data\n",
    "systole_d = {\"X\": cheartio.read_dfile(\"X-241.D\"), \"P\": cheartio.read_dfile(\"P-241.D\"), \"spatK\": cheartio.read_dfile(\"spatK-241.D\")}\n",
    "diastole_d = {\"X\": cheartio.read_dfile(\"X-1.D\"), \"P\": cheartio.read_dfile(\"P-1.D\"), \"spatK\": cheartio.read_dfile(\"spatK-1.D\")}\n",
    "\n",
    "systole_d[\"X\"]"
   ]
  },
  {
   "cell_type": "code",
   "execution_count": 75,
   "metadata": {},
   "outputs": [],
   "source": [
    "displacement = systole_d[\"X\"] - diastole_d[\"X\"]"
   ]
  },
  {
   "cell_type": "code",
   "execution_count": 76,
   "metadata": {},
   "outputs": [],
   "source": [
    "# find nodes on the outer wall or one of the two flaps\n",
    "wall_nodes = np.unique(bfile[np.isin(bfile[:, 4], (7,8,9)), 1:4].flatten())\n",
    "# these are the indices of the nodes on the outer wall or one of the two flaps"
   ]
  },
  {
   "cell_type": "code",
   "execution_count": 77,
   "metadata": {},
   "outputs": [],
   "source": [
    "moving_nodes = np.abs(np.linalg.norm(displacement, axis=1)) > 1e-7\n",
    "moving_nodes_idx = np.arange(42140)[moving_nodes]"
   ]
  },
  {
   "cell_type": "code",
   "execution_count": 78,
   "metadata": {},
   "outputs": [],
   "source": [
    "moving_wall_nodes = np.intersect1d(wall_nodes, moving_nodes_idx)"
   ]
  },
  {
   "cell_type": "code",
   "execution_count": 79,
   "metadata": {},
   "outputs": [],
   "source": [
    "displacement_main_wall = displacement[moving_wall_nodes]"
   ]
  },
  {
   "cell_type": "code",
   "execution_count": 80,
   "metadata": {},
   "outputs": [],
   "source": [
    "point_norms = cheartio.read_dfile(\"norms.D\")\n",
    "point_norms = point_norms[moving_wall_nodes]"
   ]
  },
  {
   "cell_type": "code",
   "execution_count": 81,
   "metadata": {},
   "outputs": [],
   "source": [
    "pressure_delta = systole_d[\"P\"] - diastole_d[\"P\"]\n",
    "pressure_delta_main_wall = pressure_delta[moving_wall_nodes]"
   ]
  },
  {
   "cell_type": "code",
   "execution_count": 82,
   "metadata": {},
   "outputs": [],
   "source": [
    "k = np.zeros(4856)\n",
    "for i in range(4856):\n",
    "    k[i] = pressure_delta_main_wall[i] / np.linalg.norm(displacement_main_wall[i])**2 * (displacement_main_wall[i].T @ point_norms[i])"
   ]
  },
  {
   "cell_type": "code",
   "execution_count": 83,
   "metadata": {},
   "outputs": [
    {
     "data": {
      "text/plain": [
       "array([           nan,            nan, 98772.63438855, ...,\n",
       "                  nan,            nan,            nan], shape=(42140,))"
      ]
     },
     "execution_count": 83,
     "metadata": {},
     "output_type": "execute_result"
    }
   ],
   "source": [
    "# figuring out how to make a vtu file with the results lol...\n",
    "# 1) isolate surface nodes on 7,8,9\n",
    "# 2) find connectivity data for these nodes (I think this is still in B file)\n",
    "# NOTE: steps one and two will use B file. Need to get correct indexing for K and these nodes...\n",
    "# 3) set up D matrix with K results. nodes that we don't measure should be set equal to -1? or Nan?\n",
    "# a) build D array with zeros... then fill in calculated values... and set 0's to Nan?\n",
    "# could save spatK*K, error, and calculated K in the same file...\n",
    "wall_bfile_elements = bfile[np.isin(bfile[:, 4], 8), 1:-1] # <- this has original indexing from X file...\n",
    "# THEREFORE any point data will need to maintain original indexing... oh fuck so I need a lot of zeros lol\n",
    "stiffness_points = np.zeros(np.shape(xyz)[0])\n",
    "stiffness_points[moving_wall_nodes] = k\n",
    "stiffness_points[stiffness_points==0] = np.nan\n",
    "\n",
    "stiffness_points"
   ]
  },
  {
   "cell_type": "code",
   "execution_count": 84,
   "metadata": {},
   "outputs": [
    {
     "name": "stdout",
     "output_type": "stream",
     "text": [
      "Mean K: 36489.29839131529\n",
      "Std Dev K: 25122.261364147707\n",
      "Max K: 245675.09690370932\n",
      "Min K: 5735.729782259097\n"
     ]
    }
   ],
   "source": [
    "print(\"Mean K:\", np.mean(k))\n",
    "print(\"Std Dev K:\", np.std(k))\n",
    "print(\"Max K:\", np.max(k))\n",
    "print(\"Min K:\", np.min(k))\n",
    "\n",
    "# could do a bunch of violin plots here to show the distribution of k values depending on the region..."
   ]
  },
  {
   "cell_type": "code",
   "execution_count": 85,
   "metadata": {},
   "outputs": [
    {
     "data": {
      "text/plain": [
       "Text(0.5, 1.0, 'Distribution of K values on walls -- Displacement Method')"
      ]
     },
     "execution_count": 85,
     "metadata": {},
     "output_type": "execute_result"
    },
    {
     "data": {
      "image/png": "[encoded data removed]",
      "text/plain": [
       "<Figure size 640x480 with 1 Axes>"
      ]
     },
     "metadata": {},
     "output_type": "display_data"
    }
   ],
   "source": [
    "import matplotlib.pyplot as plt\n",
    "plt.violinplot(k, showextrema=False, quantiles=[0.25, 0.5, 0.75])\n",
    "plt.title(\"Distribution of K values on walls -- Displacement Method\")"
   ]
  },
  {
   "cell_type": "code",
   "execution_count": 86,
   "metadata": {},
   "outputs": [
    {
     "data": {
      "text/plain": [
       "array([[ 467, 2345, 2334],\n",
       "       [ 443, 2341, 2336],\n",
       "       [ 468, 2327, 2335],\n",
       "       ...,\n",
       "       [2582, 2581, 2529],\n",
       "       [3391, 3429, 3331],\n",
       "       [3331, 3232, 3391]], shape=(10152, 3))"
      ]
     },
     "execution_count": 86,
     "metadata": {},
     "output_type": "execute_result"
    }
   ],
   "source": [
    "wall_bfile_elements"
   ]
  },
  {
   "cell_type": "code",
   "execution_count": 95,
   "metadata": {},
   "outputs": [],
   "source": [
    "# testing area computation\n",
    "node1 = xyz[wall_bfile_elements[0, 0]]\n",
    "node2 = xyz[wall_bfile_elements[0, 1]]\n",
    "node3 = xyz[wall_bfile_elements[0, 2]]\n",
    "xyz_sys = systole_d[\"X\"]\n",
    "xyz_dia = diastole_d[\"X\"]"
   ]
  },
  {
   "cell_type": "code",
   "execution_count": 96,
   "metadata": {},
   "outputs": [],
   "source": [
    "# beautiful big ass one liner for area calculation\n",
    "area_sys = 0.5 * np.linalg.norm(np.cross(xyz_sys[wall_bfile_elements[:, 1]] - xyz_sys[wall_bfile_elements[:, 0]], xyz_sys[wall_bfile_elements[:, 2]] - xyz_sys[wall_bfile_elements[:, 0]]), axis=1)\n",
    "area_dia = 0.5 * np.linalg.norm(np.cross(xyz_dia[wall_bfile_elements[:, 1]] - xyz_dia[wall_bfile_elements[:, 0]], xyz_dia[wall_bfile_elements[:, 2]] - xyz_dia[wall_bfile_elements[:, 0]]), axis=1)\n",
    "strain = (area_sys-area_dia)/area_dia"
   ]
  },
  {
   "cell_type": "code",
   "execution_count": 42,
   "metadata": {},
   "outputs": [],
   "source": [
    "meshio.write_points_cells(\"estimated_stiffness.vtu\", xyz, {\"triangle\": wall_bfile_elements}, point_data={\"Stiffness (Pa/mm)\": stiffness_points})\n",
    "meshio.write_points_cells(\"prescribed_stiffness.vtu\", xyz, {\"triangle\": wall_bfile_elements}, point_data={\"Stiffness (Pa/mm)\": K*systole_d[\"spatK\"]})\n",
    "meshio.write_points_cells(\"stiffness_error.vtu\", xyz, {\"triangle\": wall_bfile_elements}, point_data={\"Absolute Error (Pa/mm)\": np.abs(K*systole_d[\"spatK\"]-stiffness_points), \"Relative Error\": np.abs(K*systole_d[\"spatK\"]-stiffness_points)/(K*systole_d[\"spatK\"])})"
   ]
  },
  {
   "cell_type": "code",
   "execution_count": 119,
   "metadata": {},
   "outputs": [],
   "source": [
    "cells = [(\"triangle\", wall_bfile_elements)]\n",
    "\n",
    "mesh = meshio.Mesh(xyz, cells, point_data={\"Stiffness (Pa/mm)\": stiffness_points, \"Node Strain\": node_strain}, cell_data={\"Strain\":[strain]})\n",
    "mesh.write(\"estimated_stiffness.vtu\")\n",
    "\n",
    "#meshio.write_points_cells(\"estimated_stiffness.vtu\", xyz, cells, , cell_data={\"Area (mm^2)\": area})"
   ]
  },
  {
   "cell_type": "code",
   "execution_count": 98,
   "metadata": {},
   "outputs": [
    {
     "data": {
      "text/plain": [
       "array([-0.03059337,  0.00781376,  0.01554339, ...,  0.01827074,\n",
       "        0.01837154,  0.01239042], shape=(10152,))"
      ]
     },
     "execution_count": 98,
     "metadata": {},
     "output_type": "execute_result"
    }
   ],
   "source": [
    "strain"
   ]
  },
  {
   "cell_type": "code",
   "execution_count": 115,
   "metadata": {},
   "outputs": [
    {
     "data": {
      "text/plain": [
       "array([[ 467, 2345, 2334],\n",
       "       [ 443, 2341, 2336],\n",
       "       [ 468, 2327, 2335],\n",
       "       ...,\n",
       "       [2582, 2581, 2529],\n",
       "       [3391, 3429, 3331],\n",
       "       [3331, 3232, 3391]], shape=(10152, 3))"
      ]
     },
     "execution_count": 115,
     "metadata": {},
     "output_type": "execute_result"
    }
   ],
   "source": [
    "wall_bfile_elements"
   ]
  },
  {
   "cell_type": "code",
   "execution_count": null,
   "metadata": {},
   "outputs": [],
   "source": [
    "node_strain = np.zeros(xyz.shape[0])\n",
    "for i in range(len(wall_bfile_elements.flatten())):\n",
    "    node_idx = wall_bfile_elements.flatten()[i]\n",
    "    node_strain[node_idx] = strain[i//3]\n",
    "    \n",
    "# YES or wait... should I assemble area THEN calculate strain? don't thnk it matters"
   ]
  },
  {
   "cell_type": "code",
   "execution_count": 109,
   "metadata": {},
   "outputs": [],
   "source": [
    "node_strain = np.zeros(xyz.shape[0])\n",
    "node_strain[wall_bfile_elements] = strain[wall_bfile_elements]"
   ]
  },
  {
   "cell_type": "code",
   "execution_count": 117,
   "metadata": {},
   "outputs": [
    {
     "data": {
      "text/plain": [
       "np.float64(0.01239041831596971)"
      ]
     },
     "execution_count": 117,
     "metadata": {},
     "output_type": "execute_result"
    }
   ],
   "source": [
    "node_strain[3331] # WAIT shouldn't I add... some indices are repeated here right?"
   ]
  },
  {
   "cell_type": "code",
   "execution_count": 118,
   "metadata": {},
   "outputs": [
    {
     "data": {
      "text/plain": [
       "np.float64(68.09686294197272)"
      ]
     },
     "execution_count": 118,
     "metadata": {},
     "output_type": "execute_result"
    }
   ],
   "source": [
    "np.sum(node_strain)"
   ]
  },
  {
   "cell_type": "code",
   "execution_count": null,
   "metadata": {},
   "outputs": [],
   "source": [
    "node_stiffness = pressure_delta"
   ]
  }
 ],
 "metadata": {
  "kernelspec": {
   "display_name": "3.13.1",
   "language": "python",
   "name": "python3"
  },
  "language_info": {
   "codemirror_mode": {
    "name": "ipython",
    "version": 3
   },
   "file_extension": ".py",
   "mimetype": "text/x-python",
   "name": "python",
   "nbconvert_exporter": "python",
   "pygments_lexer": "ipython3",
   "version": "3.13.1"
  }
 },
 "nbformat": 4,
 "nbformat_minor": 2
}
