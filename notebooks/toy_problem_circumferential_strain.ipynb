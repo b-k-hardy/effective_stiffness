{
 "cells": [
  {
   "cell_type": "markdown",
   "metadata": {},
   "source": [
    "# Circumferential Strain for Will's Toy Problem\n",
    "## March 10, 2025"
   ]
  },
  {
   "cell_type": "code",
   "execution_count": 36,
   "metadata": {},
   "outputs": [],
   "source": [
    "import numpy as np\n",
    "import matplotlib.pyplot as plt\n",
    "import cheartio\n",
    "import meshio\n",
    "import pyvista as pv"
   ]
  },
  {
   "cell_type": "code",
   "execution_count": 37,
   "metadata": {},
   "outputs": [
    {
     "name": "stdout",
     "output_type": "stream",
     "text": [
      "WARNING: No .Bfile, ambiguous number of nodes, choosing triangle\n"
     ]
    }
   ],
   "source": [
    "data_source = \"varying circumferential stiffness/brandon_stuff_bulge_refined\"\n",
    "\n",
    "xyz, ien, cell_type = cheartio.read_mesh(f\"{data_source}/cyl\")\n",
    "\n",
    "cylindrical_coords0 = cheartio.read_dfile(f\"{data_source}/Fiber-0.D\")\n",
    "cylindrical_coords100 = cheartio.read_dfile(f\"{data_source}/Fiber-100.D\")\n",
    "\n",
    "unloaded_d = {\"longitudinal_coord\": cylindrical_coords0[:, 0:3],\n",
    "              \"circumferential_coord\": cylindrical_coords0[:, 3:6],\n",
    "              \"radial_coord\": cylindrical_coords0[:, 6:9],\n",
    "              \"space\": cheartio.read_dfile(f\"{data_source}/Space-0.D\"),\n",
    "              \"stiffness\": cheartio.read_dfile(f\"{data_source}/Stiff-0.D\"),\n",
    "              \"displacement\": cheartio.read_dfile(f\"{data_source}/Space-100.D\") - cheartio.read_dfile(f\"{data_source}/Space-0.D\")}\n",
    "\n",
    "loaded_d = {\"longitudinal_coord\": cylindrical_coords100[:, 0:3],\n",
    "              \"circumferential_coord\": cylindrical_coords100[:, 3:6],\n",
    "              \"radial_coord\": cylindrical_coords100[:, 6:9],\n",
    "              \"space\": cheartio.read_dfile(f\"{data_source}/Space-100.D\"),\n",
    "              \"stiffness\": cheartio.read_dfile(f\"{data_source}/Stiff-0.D\"),}\n"
   ]
  },
  {
   "cell_type": "code",
   "execution_count": 38,
   "metadata": {},
   "outputs": [],
   "source": [
    "# NOTE: FINDING IDEAL CENTERLINE BY TAKING CENTROID EVERy 16 points (this is the number of points in the circumferential direction)\n",
    "# Need to decide what kind of spline to fit?\n",
    "def find_centerline(coords):\n",
    "    centerline = []\n",
    "    for i in range(0, len(coords), 32):\n",
    "        centerline.append(np.mean(coords[i:i + 32], axis=0))\n",
    "    return np.array(centerline)"
   ]
  },
  {
   "cell_type": "code",
   "execution_count": 47,
   "metadata": {},
   "outputs": [
    {
     "name": "stdout",
     "output_type": "stream",
     "text": [
      "(2080, 3)\n",
      "2080\n"
     ]
    }
   ],
   "source": [
    "print(unloaded_d[\"space\"].shape)\n",
    "print(32*65)"
   ]
  },
  {
   "cell_type": "code",
   "execution_count": 48,
   "metadata": {},
   "outputs": [],
   "source": [
    "centerline_unloaded = find_centerline(unloaded_d[\"space\"])\n",
    "centerline_loaded = find_centerline(loaded_d[\"space\"])\n",
    "displacement = centerline_loaded - centerline_unloaded"
   ]
  },
  {
   "cell_type": "code",
   "execution_count": 49,
   "metadata": {},
   "outputs": [
    {
     "name": "stdout",
     "output_type": "stream",
     "text": [
      "(65, 3)\n"
     ]
    }
   ],
   "source": [
    "print(centerline_unloaded.shape)"
   ]
  },
  {
   "cell_type": "code",
   "execution_count": 50,
   "metadata": {},
   "outputs": [],
   "source": [
    "# Compute the gradient (finite difference) along the centerline for the loaded case\n",
    "loaded_gradient = np.gradient(centerline_loaded, axis=0)\n",
    "unloaded_gradient = np.gradient(centerline_unloaded, axis=0)"
   ]
  },
  {
   "cell_type": "code",
   "execution_count": 51,
   "metadata": {},
   "outputs": [
    {
     "name": "stdout",
     "output_type": "stream",
     "text": [
      "[65, 0, 1, 2, 3, 4, 5, 6, 7, 8, 9, 10, 11, 12, 13, 14, 15, 16, 17, 18, 19, 20, 21, 22, 23, 24, 25, 26, 27, 28, 29, 30, 31, 32, 33, 34, 35, 36, 37, 38, 39, 40, 41, 42, 43, 44, 45, 46, 47, 48, 49, 50, 51, 52, 53, 54, 55, 56, 57, 58, 59, 60, 61, 62, 63, 64]\n"
     ]
    }
   ],
   "source": [
    "pairs = np.array([[2, i, i+1] for i in range(64)]) # PAIRS MAKE IT SO YOU CAN'T CALCULATE ARC LENGTH...\n",
    "lines_idx = [centerline_loaded.shape[0]] + [i for i in range(centerline_loaded.shape[0])]\n",
    "print(lines_idx)\n",
    "#meshio.write_points_cells(f\"{data_source}/centerline_unloaded.vtu\",\n",
    "#                          centerline_unloaded,\n",
    "#                         lines,\n",
    "#                          point_data={\"Displacement\": displacement,\n",
    "#                                      \"Derivative\": unloaded_gradient,})\n",
    "#meshio.write_points_cells(f\"{data_source}/centerline_loaded.vtu\",\n",
    "#                            centerline_loaded,\n",
    "#                             lines,\n",
    "#                             point_data={\"Derivative\": loaded_gradient,})\n",
    "\n",
    "\n",
    "centerline_unloaded = pv.PolyData(centerline_unloaded, lines=lines_idx)\n",
    "centerline_unloaded[\"Displacement\"] = displacement\n",
    "centerline_unloaded[\"Derivative\"] = unloaded_gradient\n",
    "centerline_loaded = pv.PolyData(centerline_loaded, lines=lines_idx)\n",
    "centerline_loaded[\"Derivative\"] = loaded_gradient\n",
    "centerline_unloaded.save(f\"{data_source}/centerline_unloaded.vtp\")\n",
    "centerline_loaded.save(f\"{data_source}/centerline_loaded.vtp\")\n"
   ]
  },
  {
   "cell_type": "code",
   "execution_count": 35,
   "metadata": {},
   "outputs": [],
   "source": [
    "cells = [(\"triangle\", ien)]\n",
    "meshio.write_points_cells(\n",
    "    f\"{data_source}/cyl0.vtu\",\n",
    "    xyz,\n",
    "    cells,\n",
    "    point_data={\"longitudinal_coord\": unloaded_d[\"longitudinal_coord\"], \n",
    "                \"circumferential_coord\": unloaded_d[\"circumferential_coord\"],\n",
    "                \"radial_coord\": unloaded_d[\"radial_coord\"],\n",
    "                \"stiffness\": unloaded_d[\"stiffness\"],\n",
    "                \"Displacement\": unloaded_d[\"displacement\"]},\n",
    ")\n",
    "\n",
    "meshio.write_points_cells(\n",
    "    f\"{data_source}/cyl100.vtu\",\n",
    "    loaded_d[\"space\"],\n",
    "    cells,\n",
    "    point_data={\"longitudinal_coord\": loaded_d[\"longitudinal_coord\"],\n",
    "                \"circumferential_coord\": loaded_d[\"circumferential_coord\"],\n",
    "                \"radial_coord\": loaded_d[\"radial_coord\"],\n",
    "                \"stiffness\": unloaded_d[\"stiffness\"]},\n",
    ")"
   ]
  },
  {
   "cell_type": "code",
   "execution_count": 9,
   "metadata": {},
   "outputs": [
    {
     "data": {
      "text/plain": [
       "(2080, 3)"
      ]
     },
     "execution_count": 9,
     "metadata": {},
     "output_type": "execute_result"
    }
   ],
   "source": [
    "# Coord-0.D is a 9 dimension array, first 3 is the longitudinal direction unit vector, \n",
    "# second 3 is the circumferential direction unit vector, \n",
    "# and the last 3 is the unit vector for the radial direction\n",
    "\n",
    "unloaded_d[\"radial_coord\"].shape\n"
   ]
  }
 ],
 "metadata": {
  "kernelspec": {
   "display_name": "effective-stiffness",
   "language": "python",
   "name": "python3"
  },
  "language_info": {
   "codemirror_mode": {
    "name": "ipython",
    "version": 3
   },
   "file_extension": ".py",
   "mimetype": "text/x-python",
   "name": "python",
   "nbconvert_exporter": "python",
   "pygments_lexer": "ipython3",
   "version": "3.13.3"
  }
 },
 "nbformat": 4,
 "nbformat_minor": 2
}
